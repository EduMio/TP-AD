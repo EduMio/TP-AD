{
 "cells": [
  {
   "cell_type": "code",
   "execution_count": 1,
   "id": "f395cd16-78d9-4272-817b-04af00e8cadc",
   "metadata": {},
   "outputs": [],
   "source": [
    "import pandas as pd\n",
    "from pre_processing import *\n",
    "\n",
    "data = pd.read_csv(\"data/BatteryFeatures.csv\")\n",
    "\n",
    "cleaned_data = remove_outliers_chi_squared(data)\n",
    "\n",
    "cycle_life = cleaned_data[\"cycle_life\"]\n",
    "cleaned_data = cleaned_data.drop(columns=['cycle_life'])\n",
    "\n",
    "normalized_data = normalize_data(cleaned_data)\n",
    "\n",
    "discretized_data = discretize_data_with_lower_bounds(normalized_data,bins = 20)\n",
    "\n",
    "binarized_data = binarize_columns(discretized_data)\n",
    "\n",
    "binarized_data = binarized_data.reset_index(drop=True)\n",
    "cycle_life = cycle_life.reset_index(drop=True)\n",
    "\n",
    "# Append the cycle_life column to the binarized_data DataFrame\n",
    "binarized_data['cycle_life'] = cycle_life\n",
    "\n",
    "# Save the DataFrame to a CSV file without the index\n",
    "binarized_data.to_csv(\"data/bin_data.csv\", index=False)"
   ]
  }
 ],
 "metadata": {
  "kernelspec": {
   "display_name": "Python 3 (ipykernel)",
   "language": "python",
   "name": "python3"
  },
  "language_info": {
   "codemirror_mode": {
    "name": "ipython",
    "version": 3
   },
   "file_extension": ".py",
   "mimetype": "text/x-python",
   "name": "python",
   "nbconvert_exporter": "python",
   "pygments_lexer": "ipython3",
   "version": "3.11.9"
  }
 },
 "nbformat": 4,
 "nbformat_minor": 5
}
