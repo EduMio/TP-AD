{
 "cells": [
  {
   "cell_type": "code",
   "execution_count": 1,
   "id": "4e43a6b0-8a0f-4cd8-8f3f-e53cefdd5020",
   "metadata": {},
   "outputs": [],
   "source": [
    "import seaborn as sns\n",
    "import numpy as np\n",
    "import pandas as pd\n",
    "from scipy.stats import chi2\n",
    "import matplotlib.pyplot as plt\n",
    "from sklearn.preprocessing import MinMaxScaler\n",
    "from sklearn.metrics import mean_squared_error\n",
    "from mlxtend.frequent_patterns import apriori, association_rules\n",
    "\n",
    "def remove_outliers_chi_squared(df, significance_level=0.05):\n",
    "    # Calculate the chi-squared critical value\n",
    "    chi_squared_critical_value = chi2.ppf(1 - significance_level, df.shape[1])\n",
    "    \n",
    "    # Calculate the Mahalanobis distance for each row\n",
    "    mean = np.mean(df, axis=0)\n",
    "    cov = np.cov(df.values, rowvar=False)\n",
    "    inv_covmat = np.linalg.inv(cov)\n",
    "    mahalanobis_distances = df.apply(lambda row: np.dot(np.dot((row - mean), inv_covmat), (row - mean).T), axis=1)\n",
    "    \n",
    "    # Identify outliers\n",
    "    outliers = mahalanobis_distances > chi_squared_critical_value\n",
    "    \n",
    "    # Remove outliers\n",
    "    cleaned_df = df[~outliers]\n",
    "    \n",
    "    return cleaned_df"
   ]
  },
  {
   "cell_type": "code",
   "execution_count": 2,
   "id": "804625a7-dab0-481e-8a8d-fdfa0288dd8f",
   "metadata": {},
   "outputs": [],
   "source": [
    "def normalize_data(df):\n",
    "    scaler = MinMaxScaler(feature_range=(0, 100))\n",
    "    normalized_data = scaler.fit_transform(df)\n",
    "    normalized_df = pd.DataFrame(normalized_data, columns=df.columns)\n",
    "    return normalized_df\n",
    "\n",
    "# Apply the normalization function to the cleaned dataset\n"
   ]
  },
  {
   "cell_type": "code",
   "execution_count": 3,
   "id": "1ff3c4f3-1d94-4d16-969b-e5b98d63f792",
   "metadata": {},
   "outputs": [],
   "source": [
    "def discretize_data_with_lower_bounds(df, bins=20):\n",
    "    discretized_df = pd.DataFrame()\n",
    "    for col in df.columns:\n",
    "        # Get the bin edges\n",
    "        bin_edges = np.linspace(df[col].min(), df[col].max(), bins + 1)\n",
    "            \n",
    "        # Assign each value to the lower bound of its bin\n",
    "        bin_labels = bin_edges[:-1]\n",
    "        discretized_col = pd.cut(df[col], bins=bin_edges, labels=bin_labels, include_lowest=True)\n",
    "            \n",
    "        discretized_df[col] = discretized_col.astype(float)\n",
    "        \n",
    "    return discretized_df"
   ]
  },
  {
   "cell_type": "code",
   "execution_count": 4,
   "id": "0b562382-2520-4eb5-a4ef-56fd878fa3df",
   "metadata": {},
   "outputs": [],
   "source": [
    "def binarize_columns(df):\n",
    "    binary_dict = {}\n",
    "    \n",
    "    for col in df.columns:\n",
    "        # Round the values to the nearest integer\n",
    "        rounded_col = df[col].round().astype(int)\n",
    "        unique_values = sorted(rounded_col.unique())\n",
    "        \n",
    "        for value in unique_values:\n",
    "            binary_dict[f'{col}_{value}'] = (rounded_col == value).astype(int)\n",
    "    \n",
    "    binary_df = pd.DataFrame(binary_dict)\n",
    "    \n",
    "    return binary_df"
   ]
  },
  {
   "cell_type": "code",
   "execution_count": 5,
   "id": "c86bbcc6",
   "metadata": {},
   "outputs": [],
   "source": [
    "data = pd.read_csv('data/BatteryFeatures.csv')"
   ]
  },
  {
   "cell_type": "code",
   "execution_count": 6,
   "id": "1c9564cc-f3bc-4c24-9006-89bd737fd005",
   "metadata": {},
   "outputs": [],
   "source": [
    "cleaned_data = remove_outliers_chi_squared(data)\n",
    "normalized_data = normalize_data(cleaned_data)\n",
    "discretized_data = discretize_data_with_lower_bounds(normalized_data,bins = 20)\n",
    "binarized_data = binarize_columns(discretized_data)"
   ]
  },
  {
   "cell_type": "code",
   "execution_count": 7,
   "id": "51c15f90-be4d-443d-962e-a20cc5d4b892",
   "metadata": {},
   "outputs": [
    {
     "name": "stdout",
     "output_type": "stream",
     "text": [
      "                                antecedents  \\\n",
      "251                         (deltaQ_var_35)   \n",
      "246  (capFadeCycle2Slope_25, deltaQ_min_45)   \n",
      "26                          (deltaQ_min_45)   \n",
      "250                         (deltaQ_min_45)   \n",
      "247  (capFadeCycle2Slope_25, deltaQ_var_35)   \n",
      "27                          (deltaQ_var_35)   \n",
      "463       (cycle_life_25, avgChargeTime_30)   \n",
      "460    (capFadeCycle2Slope_25, tempIntT_30)   \n",
      "286         (capFadeCycle2Slope_25, qd2_65)   \n",
      "291             (capFadeCycle2Intercept_75)   \n",
      "\n",
      "                                consequents  antecedent support  \\\n",
      "251  (capFadeCycle2Slope_25, deltaQ_min_45)            0.073394   \n",
      "246                         (deltaQ_var_35)            0.064220   \n",
      "26                          (deltaQ_var_35)            0.091743   \n",
      "250  (capFadeCycle2Slope_25, deltaQ_var_35)            0.091743   \n",
      "247                         (deltaQ_min_45)            0.064220   \n",
      "27                          (deltaQ_min_45)            0.073394   \n",
      "463    (capFadeCycle2Slope_25, tempIntT_30)            0.073394   \n",
      "460       (cycle_life_25, avgChargeTime_30)            0.082569   \n",
      "286             (capFadeCycle2Intercept_75)            0.073394   \n",
      "291         (capFadeCycle2Slope_25, qd2_65)            0.110092   \n",
      "\n",
      "     consequent support   support  confidence       lift  leverage  \\\n",
      "251            0.064220  0.064220    0.875000  13.625000  0.059507   \n",
      "246            0.073394  0.064220    1.000000  13.625000  0.059507   \n",
      "26             0.073394  0.073394    0.800000  10.900000  0.066661   \n",
      "250            0.064220  0.064220    0.700000  10.900000  0.058328   \n",
      "247            0.091743  0.064220    1.000000  10.900000  0.058328   \n",
      "27             0.091743  0.073394    1.000000  10.900000  0.066661   \n",
      "463            0.082569  0.064220    0.875000  10.597222  0.058160   \n",
      "460            0.073394  0.064220    0.777778  10.597222  0.058160   \n",
      "286            0.110092  0.073394    1.000000   9.083333  0.065314   \n",
      "291            0.073394  0.073394    0.666667   9.083333  0.065314   \n",
      "\n",
      "     conviction  zhangs_metric  \n",
      "251    7.486239       1.000000  \n",
      "246         inf       0.990196  \n",
      "26     4.633028       1.000000  \n",
      "250    3.119266       1.000000  \n",
      "247         inf       0.970588  \n",
      "27          inf       0.980198  \n",
      "463    7.339450       0.977369  \n",
      "460    4.169725       0.987143  \n",
      "286         inf       0.960396  \n",
      "291    2.779817       1.000000  \n"
     ]
    },
    {
     "name": "stderr",
     "output_type": "stream",
     "text": [
      "/home/leandro/.local/lib/python3.10/site-packages/mlxtend/frequent_patterns/fpcommon.py:109: DeprecationWarning: DataFrames with non-bool types result in worse computationalperformance and their support might be discontinued in the future.Please use a DataFrame with bool type\n",
      "  warnings.warn(\n"
     ]
    }
   ],
   "source": [
    "target_data =  binarized_data\n",
    "\n",
    "frequent_itemsets = apriori(target_data, min_support=0.05, use_colnames=True)\n",
    "\n",
    "rules = association_rules(frequent_itemsets, metric=\"confidence\", min_threshold=0.1)\n",
    "\n",
    "top_10_rules = rules.sort_values(by='lift', ascending=False).head(10)\n",
    "print(top_10_rules)"
   ]
  }
 ],
 "metadata": {
  "kernelspec": {
   "display_name": "Python 3 (ipykernel)",
   "language": "python",
   "name": "python3"
  },
  "language_info": {
   "codemirror_mode": {
    "name": "ipython",
    "version": 3
   },
   "file_extension": ".py",
   "mimetype": "text/x-python",
   "name": "python",
   "nbconvert_exporter": "python",
   "pygments_lexer": "ipython3",
   "version": "3.10.12"
  }
 },
 "nbformat": 4,
 "nbformat_minor": 5
}
